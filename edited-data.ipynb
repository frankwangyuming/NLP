{
 "cells": [
  {
   "cell_type": "markdown",
   "metadata": {},
   "source": [
    "### 3.1 nltk的一般使用"
   ]
  },
  {
   "cell_type": "code",
   "execution_count": 124,
   "metadata": {},
   "outputs": [],
   "source": [
    "import numpy as np\n",
    "import scipy as sp\n",
    "import pandas as pd\n",
    "import matplotlib.pyplot as plt\n",
    "import nltk\n",
    "import sklearn as sk\n",
    "import os,time,re,string\n",
    "import seaborn as sns\n",
    "\n",
    "from sklearn.model_selection import train_test_split, KFold\n",
    "from sklearn import metrics \n",
    "\n",
    "%matplotlib inline"
   ]
  },
  {
   "cell_type": "markdown",
   "metadata": {},
   "source": [
    "### 4.1. 读取文字描述，查看大概数据情况"
   ]
  },
  {
   "cell_type": "code",
   "execution_count": 125,
   "metadata": {},
   "outputs": [],
   "source": [
    "review_raw = pd.read_csv('data/data.csv')"
   ]
  },
  {
   "cell_type": "code",
   "execution_count": 126,
   "metadata": {},
   "outputs": [
    {
     "name": "stdout",
     "output_type": "stream",
     "text": [
      "<class 'pandas.core.frame.DataFrame'>\n",
      "RangeIndex: 170 entries, 0 to 169\n",
      "Data columns (total 2 columns):\n",
      "summary    170 non-null object\n",
      "score      170 non-null int64\n",
      "dtypes: int64(1), object(1)\n",
      "memory usage: 2.7+ KB\n"
     ]
    }
   ],
   "source": [
    "review_raw.info()"
   ]
  },
  {
   "cell_type": "markdown",
   "metadata": {
    "collapsed": true
   },
   "source": [
    "### 4.2 整理label, 作为正负评价的标签"
   ]
  },
  {
   "cell_type": "markdown",
   "metadata": {},
   "source": [
    "* 去掉Null值\n",
    "\n",
    "review = review_raw.dropna()"
   ]
  },
  {
   "cell_type": "code",
   "execution_count": 127,
   "metadata": {},
   "outputs": [],
   "source": [
    "review = review_raw.dropna()"
   ]
  },
  {
   "cell_type": "code",
   "execution_count": 128,
   "metadata": {},
   "outputs": [
    {
     "data": {
      "text/plain": [
       "(170, 2)"
      ]
     },
     "execution_count": 128,
     "metadata": {},
     "output_type": "execute_result"
    }
   ],
   "source": [
    "review.shape"
   ]
  },
  {
   "cell_type": "code",
   "execution_count": 129,
   "metadata": {},
   "outputs": [],
   "source": [
    "label = review['score']"
   ]
  },
  {
   "cell_type": "markdown",
   "metadata": {},
   "source": [
    "### 4.3 整理summary文字栏\n",
    "\n",
    "* 去标点等符号\n",
    "* 分词\n",
    "* stopwords,去掉stopwords\n",
    "* 词干提取Stemming与词形还原Lemmatization\n",
    "* 清洗结果对比"
   ]
  },
  {
   "cell_type": "code",
   "execution_count": 130,
   "metadata": {},
   "outputs": [],
   "source": [
    "summary = review['summary']"
   ]
  },
  {
   "cell_type": "code",
   "execution_count": 131,
   "metadata": {},
   "outputs": [
    {
     "data": {
      "text/plain": [
       "0                                         Philippines \n",
       "1                                                  MIB\n",
       "2    I was a property acquisition officer at Robins...\n",
       "3                                     work in New York\n",
       "4                                                  yes\n",
       "5                                               Taiwan\n",
       "6                                                  MBA\n",
       "7                                construction engineer\n",
       "8       work in United States as construction engineer\n",
       "9                                                  yes\n",
       "Name: summary, dtype: object"
      ]
     },
     "execution_count": 131,
     "metadata": {},
     "output_type": "execute_result"
    }
   ],
   "source": [
    "summary.head(10)"
   ]
  },
  {
   "cell_type": "markdown",
   "metadata": {},
   "source": [
    "#### 4.3.1 数据清洗: 去掉标点符号"
   ]
  },
  {
   "cell_type": "markdown",
   "metadata": {},
   "source": [
    "* 不要忘记import string\n",
    "* import string\n",
    "* string.punctuation"
   ]
  },
  {
   "cell_type": "code",
   "execution_count": 132,
   "metadata": {},
   "outputs": [
    {
     "data": {
      "text/plain": [
       "'!\"#$%&\\'()*+,-./:;<=>?@[\\\\]^_`{|}~'"
      ]
     },
     "execution_count": 132,
     "metadata": {},
     "output_type": "execute_result"
    }
   ],
   "source": [
    "import string\n",
    "string.punctuation"
   ]
  },
  {
   "cell_type": "code",
   "execution_count": 133,
   "metadata": {},
   "outputs": [],
   "source": [
    "# Python3 的用法\n",
    "trantable = str.maketrans(\"\",\"\",string.punctuation)\n",
    "def data_clean(text):\n",
    "    text = text.lower()\n",
    "    #要去掉的元素放到 text.translate的第二个参数中\n",
    "    text_clean = text.translate(trantable)\n",
    "    return text_clean"
   ]
  },
  {
   "cell_type": "code",
   "execution_count": null,
   "metadata": {
    "collapsed": true
   },
   "outputs": [],
   "source": []
  },
  {
   "cell_type": "markdown",
   "metadata": {},
   "source": [
    "* 对summary执行data_clearn操作\n",
    "* summary = summary.apply(lambda x: data_clean(x))"
   ]
  },
  {
   "cell_type": "code",
   "execution_count": 134,
   "metadata": {},
   "outputs": [],
   "source": [
    "summary = summary.apply(lambda x: data_clean(x))"
   ]
  },
  {
   "cell_type": "markdown",
   "metadata": {},
   "source": [
    "#### 4.3.2 分词 tokenize"
   ]
  },
  {
   "cell_type": "code",
   "execution_count": 135,
   "metadata": {},
   "outputs": [],
   "source": [
    "from nltk import word_tokenize"
   ]
  },
  {
   "cell_type": "code",
   "execution_count": 136,
   "metadata": {},
   "outputs": [],
   "source": [
    "# 取一部分做一个展示\n",
    "demo = summary[:182]"
   ]
  },
  {
   "cell_type": "markdown",
   "metadata": {},
   "source": [
    "corpus_w_stopword = [word_tokenize(text) for text in demo]"
   ]
  },
  {
   "cell_type": "code",
   "execution_count": 137,
   "metadata": {},
   "outputs": [],
   "source": [
    "corpus_w_stopword = [word_tokenize(text) for text in demo]"
   ]
  },
  {
   "cell_type": "code",
   "execution_count": 138,
   "metadata": {},
   "outputs": [
    {
     "data": {
      "text/plain": [
       "[['philippines'],\n",
       " ['mib'],\n",
       " ['i',\n",
       "  'was',\n",
       "  'a',\n",
       "  'property',\n",
       "  'acquisition',\n",
       "  'officer',\n",
       "  'at',\n",
       "  'robinsons',\n",
       "  'land',\n",
       "  'corporation'],\n",
       " ['work', 'in', 'new', 'york'],\n",
       " ['yes'],\n",
       " ['taiwan'],\n",
       " ['mba'],\n",
       " ['construction', 'engineer'],\n",
       " ['work', 'in', 'united', 'states', 'as', 'construction', 'engineer'],\n",
       " ['yes'],\n",
       " ['china'],\n",
       " ['mib'],\n",
       " ['working', 'in', 'bank'],\n",
       " ['find', 'a', 'job'],\n",
       " ['yes'],\n",
       " ['america'],\n",
       " ['mib'],\n",
       " ['i',\n",
       "  'was',\n",
       "  'a',\n",
       "  'teacher',\n",
       "  'for',\n",
       "  'kindergarten',\n",
       "  'through',\n",
       "  '3rd',\n",
       "  'grade'],\n",
       " ['next',\n",
       "  'job',\n",
       "  'in',\n",
       "  'educational',\n",
       "  'technology',\n",
       "  'and',\n",
       "  'environment',\n",
       "  'ill',\n",
       "  'be',\n",
       "  'working'],\n",
       " ['yes'],\n",
       " ['south', 'korea'],\n",
       " ['mba'],\n",
       " ['product', 'analytics', 'manager'],\n",
       " ['working', 'in', 'united', 'states'],\n",
       " ['yes'],\n",
       " ['venezuela'],\n",
       " ['mib'],\n",
       " ['work'],\n",
       " ['work', 'in', 'san', 'francisco'],\n",
       " ['yes'],\n",
       " ['republic', 'of', 'korea'],\n",
       " ['mba'],\n",
       " ['work'],\n",
       " ['get', 'hired'],\n",
       " ['yes'],\n",
       " ['china'],\n",
       " ['mib'],\n",
       " ['working', 'as', 'bank'],\n",
       " ['find', 'a', 'job'],\n",
       " ['yes'],\n",
       " ['philippines'],\n",
       " ['mib'],\n",
       " ['worked', 'in', 'a', 'marketing', 'team'],\n",
       " ['work', 'in', 'the', 'us'],\n",
       " ['yes'],\n",
       " ['indonesia'],\n",
       " ['mib'],\n",
       " ['work'],\n",
       " ['work'],\n",
       " ['yes'],\n",
       " ['italy'],\n",
       " ['mib'],\n",
       " ['internship', 'in', 'italy'],\n",
       " ['start', 'working', 'in', 'a', 'consulting', 'firm'],\n",
       " ['yes'],\n",
       " ['india'],\n",
       " ['mib'],\n",
       " ['booking', 'in', 'india'],\n",
       " ['i', 'will', 'work', 'in', 'us'],\n",
       " ['yes'],\n",
       " ['india'],\n",
       " ['mba'],\n",
       " ['consultant'],\n",
       " ['work', 'in', 'analytics'],\n",
       " ['yes'],\n",
       " ['china'],\n",
       " ['mba'],\n",
       " ['working'],\n",
       " ['go', 'travelling'],\n",
       " ['yes'],\n",
       " ['philippines'],\n",
       " ['mba'],\n",
       " ['employed'],\n",
       " ['find', 'job'],\n",
       " ['yes'],\n",
       " ['china'],\n",
       " ['mib'],\n",
       " ['study'],\n",
       " ['work'],\n",
       " ['yes'],\n",
       " ['china'],\n",
       " ['mib'],\n",
       " ['vacation'],\n",
       " ['start', 'working'],\n",
       " ['yes'],\n",
       " ['brazil'],\n",
       " ['mib'],\n",
       " ['study'],\n",
       " ['get', 'a', 'job'],\n",
       " ['yes'],\n",
       " ['india'],\n",
       " ['mba'],\n",
       " ['marketing'],\n",
       " ['marketing'],\n",
       " ['yes'],\n",
       " ['india'],\n",
       " ['mib'],\n",
       " ['work', 'in', 'marketing'],\n",
       " ['working', 'in', 'data', 'analytics'],\n",
       " ['yes'],\n",
       " ['france'],\n",
       " ['mib'],\n",
       " ['i', 'was', 'doing', 'my', 'undergrad'],\n",
       " ['after',\n",
       "  'graduation',\n",
       "  'i',\n",
       "  'plan',\n",
       "  'on',\n",
       "  'finding',\n",
       "  'a',\n",
       "  'job',\n",
       "  'in',\n",
       "  'the',\n",
       "  'united',\n",
       "  'states'],\n",
       " ['yes'],\n",
       " ['honduras'],\n",
       " ['mib'],\n",
       " ['work'],\n",
       " ['find', 'a', 'job', 'in', 'the', 'us'],\n",
       " ['yes'],\n",
       " ['nigeria'],\n",
       " ['mib'],\n",
       " ['work', 'for', 'a', 'bank'],\n",
       " ['find', 'a', 'job', 'in', 'the', 'united', 'states'],\n",
       " ['yes'],\n",
       " ['turkey'],\n",
       " ['mib'],\n",
       " ['student'],\n",
       " ['get', 'a', 'job', 'in', 'the', 'us'],\n",
       " ['yes'],\n",
       " ['philippines'],\n",
       " ['mib'],\n",
       " ['designer', 'and', 'merchandising'],\n",
       " ['go', 'back', 'to', 'the', 'philippines', 'and', 'work'],\n",
       " ['no'],\n",
       " ['denmark'],\n",
       " ['mib'],\n",
       " ['work', 'in', 'consulting'],\n",
       " ['buy', 'boats'],\n",
       " ['no'],\n",
       " ['thailand'],\n",
       " ['mib'],\n",
       " ['i', 'worked'],\n",
       " ['work'],\n",
       " ['no'],\n",
       " ['netherlands'],\n",
       " ['mib'],\n",
       " ['degree', 'in', 'policy', 'science'],\n",
       " ['i', 'am', 'not', 'working'],\n",
       " ['no'],\n",
       " ['belgium'],\n",
       " ['mib'],\n",
       " ['engineering'],\n",
       " ['fintech'],\n",
       " ['no'],\n",
       " ['dominican', 'republic'],\n",
       " ['mib'],\n",
       " ['engineering'],\n",
       " ['tech', 'consulting'],\n",
       " ['no'],\n",
       " ['hungary'],\n",
       " ['mib'],\n",
       " ['studying'],\n",
       " ['start', 'working'],\n",
       " ['no'],\n",
       " ['germany'],\n",
       " ['mib'],\n",
       " ['an', 'internship', 'in', 'india'],\n",
       " ['business', 'consultant', 'at', 'deloitte'],\n",
       " ['no'],\n",
       " ['china'],\n",
       " ['mib'],\n",
       " ['student'],\n",
       " ['work'],\n",
       " ['no'],\n",
       " ['china'],\n",
       " ['mib'],\n",
       " ['undergrad'],\n",
       " ['go', 'back', 'to', 'my', 'country', 'to', 'find', 'a', 'job'],\n",
       " ['no']]"
      ]
     },
     "execution_count": 138,
     "metadata": {},
     "output_type": "execute_result"
    }
   ],
   "source": [
    "corpus_w_stopword"
   ]
  },
  {
   "cell_type": "markdown",
   "metadata": {},
   "source": [
    "#### 4.3.3 Stopwords，去掉stopwords"
   ]
  },
  {
   "cell_type": "code",
   "execution_count": 139,
   "metadata": {},
   "outputs": [],
   "source": [
    "from nltk import FreqDist\n",
    "from nltk.corpus import stopwords"
   ]
  },
  {
   "cell_type": "markdown",
   "metadata": {},
   "source": [
    "stopwords.words('english')"
   ]
  },
  {
   "cell_type": "code",
   "execution_count": null,
   "metadata": {
    "collapsed": true
   },
   "outputs": [],
   "source": []
  },
  {
   "cell_type": "markdown",
   "metadata": {},
   "source": [
    "定义去除停用词的函数"
   ]
  },
  {
   "cell_type": "code",
   "execution_count": 140,
   "metadata": {},
   "outputs": [],
   "source": [
    "def remove_stopword(text):\n",
    "    return [word for word in text if word not in stopwords.words('english')]"
   ]
  },
  {
   "cell_type": "code",
   "execution_count": null,
   "metadata": {
    "collapsed": true
   },
   "outputs": [],
   "source": []
  },
  {
   "cell_type": "markdown",
   "metadata": {},
   "source": [
    "去除停用词，创建新的词库"
   ]
  },
  {
   "cell_type": "markdown",
   "metadata": {},
   "source": [
    "corpus_wo_stopword = [remove_stopword(text) for text in corpus_w_stopword]\n"
   ]
  },
  {
   "cell_type": "code",
   "execution_count": 141,
   "metadata": {},
   "outputs": [],
   "source": [
    "corpus_wo_stopword = [remove_stopword(text) for text in corpus_w_stopword]"
   ]
  },
  {
   "cell_type": "code",
   "execution_count": 142,
   "metadata": {},
   "outputs": [
    {
     "data": {
      "text/plain": [
       "[['philippines'],\n",
       " ['mib'],\n",
       " ['property', 'acquisition', 'officer', 'robinsons', 'land', 'corporation'],\n",
       " ['work', 'new', 'york'],\n",
       " ['yes'],\n",
       " ['taiwan'],\n",
       " ['mba'],\n",
       " ['construction', 'engineer'],\n",
       " ['work', 'united', 'states', 'construction', 'engineer'],\n",
       " ['yes'],\n",
       " ['china'],\n",
       " ['mib'],\n",
       " ['working', 'bank'],\n",
       " ['find', 'job'],\n",
       " ['yes'],\n",
       " ['america'],\n",
       " ['mib'],\n",
       " ['teacher', 'kindergarten', '3rd', 'grade'],\n",
       " ['next', 'job', 'educational', 'technology', 'environment', 'ill', 'working'],\n",
       " ['yes'],\n",
       " ['south', 'korea'],\n",
       " ['mba'],\n",
       " ['product', 'analytics', 'manager'],\n",
       " ['working', 'united', 'states'],\n",
       " ['yes'],\n",
       " ['venezuela'],\n",
       " ['mib'],\n",
       " ['work'],\n",
       " ['work', 'san', 'francisco'],\n",
       " ['yes'],\n",
       " ['republic', 'korea'],\n",
       " ['mba'],\n",
       " ['work'],\n",
       " ['get', 'hired'],\n",
       " ['yes'],\n",
       " ['china'],\n",
       " ['mib'],\n",
       " ['working', 'bank'],\n",
       " ['find', 'job'],\n",
       " ['yes'],\n",
       " ['philippines'],\n",
       " ['mib'],\n",
       " ['worked', 'marketing', 'team'],\n",
       " ['work', 'us'],\n",
       " ['yes'],\n",
       " ['indonesia'],\n",
       " ['mib'],\n",
       " ['work'],\n",
       " ['work'],\n",
       " ['yes'],\n",
       " ['italy'],\n",
       " ['mib'],\n",
       " ['internship', 'italy'],\n",
       " ['start', 'working', 'consulting', 'firm'],\n",
       " ['yes'],\n",
       " ['india'],\n",
       " ['mib'],\n",
       " ['booking', 'india'],\n",
       " ['work', 'us'],\n",
       " ['yes'],\n",
       " ['india'],\n",
       " ['mba'],\n",
       " ['consultant'],\n",
       " ['work', 'analytics'],\n",
       " ['yes'],\n",
       " ['china'],\n",
       " ['mba'],\n",
       " ['working'],\n",
       " ['go', 'travelling'],\n",
       " ['yes'],\n",
       " ['philippines'],\n",
       " ['mba'],\n",
       " ['employed'],\n",
       " ['find', 'job'],\n",
       " ['yes'],\n",
       " ['china'],\n",
       " ['mib'],\n",
       " ['study'],\n",
       " ['work'],\n",
       " ['yes'],\n",
       " ['china'],\n",
       " ['mib'],\n",
       " ['vacation'],\n",
       " ['start', 'working'],\n",
       " ['yes'],\n",
       " ['brazil'],\n",
       " ['mib'],\n",
       " ['study'],\n",
       " ['get', 'job'],\n",
       " ['yes'],\n",
       " ['india'],\n",
       " ['mba'],\n",
       " ['marketing'],\n",
       " ['marketing'],\n",
       " ['yes'],\n",
       " ['india'],\n",
       " ['mib'],\n",
       " ['work', 'marketing'],\n",
       " ['working', 'data', 'analytics'],\n",
       " ['yes'],\n",
       " ['france'],\n",
       " ['mib'],\n",
       " ['undergrad'],\n",
       " ['graduation', 'plan', 'finding', 'job', 'united', 'states'],\n",
       " ['yes'],\n",
       " ['honduras'],\n",
       " ['mib'],\n",
       " ['work'],\n",
       " ['find', 'job', 'us'],\n",
       " ['yes'],\n",
       " ['nigeria'],\n",
       " ['mib'],\n",
       " ['work', 'bank'],\n",
       " ['find', 'job', 'united', 'states'],\n",
       " ['yes'],\n",
       " ['turkey'],\n",
       " ['mib'],\n",
       " ['student'],\n",
       " ['get', 'job', 'us'],\n",
       " ['yes'],\n",
       " ['philippines'],\n",
       " ['mib'],\n",
       " ['designer', 'merchandising'],\n",
       " ['go', 'back', 'philippines', 'work'],\n",
       " [],\n",
       " ['denmark'],\n",
       " ['mib'],\n",
       " ['work', 'consulting'],\n",
       " ['buy', 'boats'],\n",
       " [],\n",
       " ['thailand'],\n",
       " ['mib'],\n",
       " ['worked'],\n",
       " ['work'],\n",
       " [],\n",
       " ['netherlands'],\n",
       " ['mib'],\n",
       " ['degree', 'policy', 'science'],\n",
       " ['working'],\n",
       " [],\n",
       " ['belgium'],\n",
       " ['mib'],\n",
       " ['engineering'],\n",
       " ['fintech'],\n",
       " [],\n",
       " ['dominican', 'republic'],\n",
       " ['mib'],\n",
       " ['engineering'],\n",
       " ['tech', 'consulting'],\n",
       " [],\n",
       " ['hungary'],\n",
       " ['mib'],\n",
       " ['studying'],\n",
       " ['start', 'working'],\n",
       " [],\n",
       " ['germany'],\n",
       " ['mib'],\n",
       " ['internship', 'india'],\n",
       " ['business', 'consultant', 'deloitte'],\n",
       " [],\n",
       " ['china'],\n",
       " ['mib'],\n",
       " ['student'],\n",
       " ['work'],\n",
       " [],\n",
       " ['china'],\n",
       " ['mib'],\n",
       " ['undergrad'],\n",
       " ['go', 'back', 'country', 'find', 'job'],\n",
       " []]"
      ]
     },
     "execution_count": 142,
     "metadata": {},
     "output_type": "execute_result"
    }
   ],
   "source": [
    "corpus_wo_stopword"
   ]
  },
  {
   "cell_type": "markdown",
   "metadata": {},
   "source": [
    "corpus_wo_stopword[:10]"
   ]
  },
  {
   "cell_type": "markdown",
   "metadata": {},
   "source": [
    "- See the difference? \n",
    "- 去掉了 'not'这类词，这类用词会严重影响情感分析，可行的处理方式？"
   ]
  },
  {
   "cell_type": "code",
   "execution_count": 143,
   "metadata": {},
   "outputs": [],
   "source": [
    "corpus_wo_h = np.hstack(corpus_wo_stopword)"
   ]
  },
  {
   "cell_type": "markdown",
   "metadata": {},
   "source": [
    "corpus_wo_h = np.hstack(corpus_wo_stopword)\n",
    "\n",
    "list.append()\n",
    "\n",
    "list.extend()"
   ]
  },
  {
   "cell_type": "code",
   "execution_count": null,
   "metadata": {
    "collapsed": true
   },
   "outputs": [],
   "source": []
  },
  {
   "cell_type": "code",
   "execution_count": 144,
   "metadata": {},
   "outputs": [
    {
     "name": "stdout",
     "output_type": "stream",
     "text": [
      "考虑停止词，不重复词汇有117\n",
      "不考虑停止次，不重复的词汇有95\n"
     ]
    }
   ],
   "source": [
    "# 计算有多少不重复的词汇:\n",
    "corpus_wo_h = np.hstack(corpus_wo_stopword)\n",
    "corpus_w_h = np.hstack(corpus_w_stopword)\n",
    "\n",
    "print(\"考虑停止词，不重复词汇有%d\"%(len(set(corpus_w_h))))\n",
    "print(\"不考虑停止次，不重复的词汇有%d\"%(len(set(corpus_wo_h))))"
   ]
  },
  {
   "cell_type": "code",
   "execution_count": null,
   "metadata": {
    "collapsed": true
   },
   "outputs": [],
   "source": []
  },
  {
   "cell_type": "code",
   "execution_count": null,
   "metadata": {
    "collapsed": true
   },
   "outputs": [],
   "source": []
  },
  {
   "cell_type": "markdown",
   "metadata": {},
   "source": [
    "#### 4.3.4 词干提取与词性还原"
   ]
  },
  {
   "cell_type": "code",
   "execution_count": 145,
   "metadata": {},
   "outputs": [],
   "source": [
    "from nltk.stem import PorterStemmer\n",
    "from nltk import WordNetLemmatizer"
   ]
  },
  {
   "cell_type": "code",
   "execution_count": 146,
   "metadata": {},
   "outputs": [],
   "source": [
    "porter = PorterStemmer()\n",
    "wnl = WordNetLemmatizer()"
   ]
  },
  {
   "cell_type": "markdown",
   "metadata": {},
   "source": [
    "print(\"stemmer: 'eating' ->%d\"%(porter.stem('eating')))\n",
    "\n",
    "print(\"lemmatization: 'feet' -> %d\"%(wnl.lemmatize('feet')))"
   ]
  },
  {
   "cell_type": "code",
   "execution_count": null,
   "metadata": {
    "collapsed": true
   },
   "outputs": [],
   "source": []
  },
  {
   "cell_type": "markdown",
   "metadata": {},
   "source": [
    "* stem_wo = [porter.stem(word) for word in corpus_wo_h]\n",
    "* lem_wo = [wnl.lemmatize(word) for word in corpus_wo_h]"
   ]
  },
  {
   "cell_type": "code",
   "execution_count": 147,
   "metadata": {},
   "outputs": [],
   "source": [
    "stem_wo = [porter.stem(word) for word in corpus_wo_h]\n",
    "lem_wo = [wnl.lemmatize(word) for word in corpus_wo_h]"
   ]
  },
  {
   "cell_type": "markdown",
   "metadata": {},
   "source": [
    "#### 4.3.5 清洗结果对比"
   ]
  },
  {
   "cell_type": "markdown",
   "metadata": {},
   "source": [
    "* 提取词干，还原词性"
   ]
  },
  {
   "cell_type": "code",
   "execution_count": 148,
   "metadata": {
    "scrolled": true
   },
   "outputs": [
    {
     "data": {
      "image/png": "[encoded data removed]",
      "text/plain": [
       "<Figure size 720x288 with 1 Axes>"
      ]
     },
     "metadata": {},
     "output_type": "display_data"
    }
   ],
   "source": [
    "plt.figure(figsize=(10,4))\n",
    "sns.barplot(x = ['raw data','after stemming', 'after lemmatization'], \n",
    "            y = [len(set(corpus_wo_h)), len(set(stem_wo)), len(set(lem_wo))]) \n",
    "plt.ylabel('count')\n",
    "plt.show()"
   ]
  },
  {
   "cell_type": "code",
   "execution_count": null,
   "metadata": {
    "collapsed": true
   },
   "outputs": [],
   "source": []
  },
  {
   "cell_type": "markdown",
   "metadata": {},
   "source": [
    "* 去除stopwords后的词频"
   ]
  },
  {
   "cell_type": "code",
   "execution_count": 149,
   "metadata": {},
   "outputs": [],
   "source": [
    "fdist_wo = pd.DataFrame(list(FreqDist(corpus_wo_h).items()),columns = ['word without','freq without'])\n",
    "fdist_wo.sort_values(by = 'freq without', inplace = True, ascending = False)\n",
    "\n",
    "fdist_w = pd.DataFrame(list(FreqDist(corpus_w_h).items()),columns = ['word with','freq with'])\n",
    "fdist_w.sort_values(by = 'freq with', inplace = True, ascending = False)"
   ]
  },
  {
   "cell_type": "code",
   "execution_count": 150,
   "metadata": {},
   "outputs": [
    {
     "data": {
      "text/html": [
       "<div>\n",
       "<style scoped>\n",
       "    .dataframe tbody tr th:only-of-type {\n",
       "        vertical-align: middle;\n",
       "    }\n",
       "\n",
       "    .dataframe tbody tr th {\n",
       "        vertical-align: top;\n",
       "    }\n",
       "\n",
       "    .dataframe thead th {\n",
       "        text-align: right;\n",
       "    }\n",
       "</style>\n",
       "<table border=\"1\" class=\"dataframe\">\n",
       "  <thead>\n",
       "    <tr style=\"text-align: right;\">\n",
       "      <th></th>\n",
       "      <th>word with</th>\n",
       "      <th>freq with</th>\n",
       "    </tr>\n",
       "  </thead>\n",
       "  <tbody>\n",
       "    <tr>\n",
       "      <th>1</th>\n",
       "      <td>mib</td>\n",
       "      <td>27</td>\n",
       "    </tr>\n",
       "    <tr>\n",
       "      <th>16</th>\n",
       "      <td>yes</td>\n",
       "      <td>24</td>\n",
       "    </tr>\n",
       "    <tr>\n",
       "      <th>13</th>\n",
       "      <td>in</td>\n",
       "      <td>22</td>\n",
       "    </tr>\n",
       "    <tr>\n",
       "      <th>12</th>\n",
       "      <td>work</td>\n",
       "      <td>18</td>\n",
       "    </tr>\n",
       "    <tr>\n",
       "      <th>4</th>\n",
       "      <td>a</td>\n",
       "      <td>13</td>\n",
       "    </tr>\n",
       "    <tr>\n",
       "      <th>94</th>\n",
       "      <td>no</td>\n",
       "      <td>10</td>\n",
       "    </tr>\n",
       "    <tr>\n",
       "      <th>28</th>\n",
       "      <td>job</td>\n",
       "      <td>10</td>\n",
       "    </tr>\n",
       "    <tr>\n",
       "      <th>25</th>\n",
       "      <td>working</td>\n",
       "      <td>10</td>\n",
       "    </tr>\n",
       "    <tr>\n",
       "      <th>2</th>\n",
       "      <td>i</td>\n",
       "      <td>7</td>\n",
       "    </tr>\n",
       "    <tr>\n",
       "      <th>24</th>\n",
       "      <td>china</td>\n",
       "      <td>7</td>\n",
       "    </tr>\n",
       "  </tbody>\n",
       "</table>\n",
       "</div>"
      ],
      "text/plain": [
       "   word with  freq with\n",
       "1        mib         27\n",
       "16       yes         24\n",
       "13        in         22\n",
       "12      work         18\n",
       "4          a         13\n",
       "94        no         10\n",
       "28       job         10\n",
       "25   working         10\n",
       "2          i          7\n",
       "24     china          7"
      ]
     },
     "execution_count": 150,
     "metadata": {},
     "output_type": "execute_result"
    }
   ],
   "source": [
    "fdist_w.head(10)"
   ]
  },
  {
   "cell_type": "markdown",
   "metadata": {},
   "source": [
    "* 可视化结果"
   ]
  },
  {
   "cell_type": "code",
   "execution_count": 151,
   "metadata": {},
   "outputs": [
    {
     "data": {
      "image/png": "[encoded data removed]",
      "text/plain": [
       "<Figure size 720x360 with 2 Axes>"
      ]
     },
     "metadata": {},
     "output_type": "display_data"
    }
   ],
   "source": [
    "fig, (ax1,ax2) = plt.subplots(1,2,sharey = True, figsize = (10,5))\n",
    "\n",
    "sns.barplot(x = fdist_w ['word with'][:10],\n",
    "           y = fdist_w ['freq with'][:10],\n",
    "           palette = 'Blues_d',\n",
    "           ax = ax1,\n",
    "           label = 'with stopwords')\n",
    "\n",
    "sns.barplot(x = fdist_wo ['word without'][:10],\n",
    "           y = fdist_wo ['freq without'][:10],\n",
    "           palette = 'Greens_d',\n",
    "           ax = ax2,\n",
    "           label = 'without stopwords')\n",
    "\n",
    "ax1.legend(loc = 'upper right')\n",
    "ax2.legend(loc = 'upper right')\n",
    "\n",
    "plt.tight_layout()\n",
    "plt.show()    "
   ]
  },
  {
   "cell_type": "markdown",
   "metadata": {},
   "source": [
    "#### 附：查看热门短语"
   ]
  },
  {
   "cell_type": "code",
   "execution_count": 152,
   "metadata": {},
   "outputs": [],
   "source": [
    "from nltk import ngrams"
   ]
  },
  {
   "cell_type": "code",
   "execution_count": 153,
   "metadata": {},
   "outputs": [],
   "source": [
    "def get_ngrams(text, n = 2):\n",
    "    return ngrams(text, n)"
   ]
  },
  {
   "cell_type": "code",
   "execution_count": null,
   "metadata": {
    "collapsed": true
   },
   "outputs": [],
   "source": [
    "s = 'I love data mining'\n",
    "\n",
    "s_token = word_tokenize(s)\n",
    "print(s_token)\n",
    "\n",
    "print(list(get_ngrams(s_token)))"
   ]
  },
  {
   "cell_type": "code",
   "execution_count": null,
   "metadata": {
    "collapsed": true
   },
   "outputs": [],
   "source": []
  },
  {
   "cell_type": "code",
   "execution_count": 154,
   "metadata": {},
   "outputs": [],
   "source": [
    "bigram_w = []\n",
    "for token in corpus_w_stopword:\n",
    "    bigram = nltk.bigrams(token)\n",
    "    for item in bigram:\n",
    "        bigram_w.append(item)\n",
    "        \n",
    "bigram_wo = []\n",
    "for token in corpus_wo_stopword:\n",
    "    bigram = nltk.bigrams(token)\n",
    "    for item in bigram:\n",
    "        bigram_wo.append(item)"
   ]
  },
  {
   "cell_type": "markdown",
   "metadata": {},
   "source": [
    "len(bigram_w)\n",
    "\n",
    "len(bigram_wo)"
   ]
  },
  {
   "cell_type": "code",
   "execution_count": 34,
   "metadata": {},
   "outputs": [
    {
     "data": {
      "text/plain": [
       "[('you', 'said'),\n",
       " ('said', 'philippines'),\n",
       " ('i', 'was'),\n",
       " ('was', 'a'),\n",
       " ('a', 'property'),\n",
       " ('property', 'acquisition'),\n",
       " ('acquisition', 'officer'),\n",
       " ('officer', 'at'),\n",
       " ('at', 'robinsons'),\n",
       " ('robinsons', 'land'),\n",
       " ('land', 'corporation'),\n",
       " ('work', 'in'),\n",
       " ('in', 'new'),\n",
       " ('new', 'york'),\n",
       " ('catch', 'that'),\n",
       " ('i', 'want'),\n",
       " ('construction', 'engineer'),\n",
       " ('working', 'in'),\n",
       " ('in', 'united'),\n",
       " ('united', 'states'),\n",
       " ('states', 'accept'),\n",
       " ('accept', 'construction'),\n",
       " ('construction', 'engineer'),\n",
       " ('designer', 'and'),\n",
       " ('and', 'merchandising'),\n",
       " ('go', 'back'),\n",
       " ('back', 'to'),\n",
       " ('to', 'the'),\n",
       " ('the', 'philippines'),\n",
       " ('philippines', 'and'),\n",
       " ('and', 'work'),\n",
       " ('catch', 'that'),\n",
       " ('working', 'in'),\n",
       " ('in', 'bank'),\n",
       " ('find', 'a'),\n",
       " ('a', 'job'),\n",
       " ('work', 'in'),\n",
       " ('in', 'consulting'),\n",
       " ('buy', 'boats'),\n",
       " ('find', 'a'),\n",
       " ('a', 'job'),\n",
       " ('i', 'was'),\n",
       " ('was', 'a'),\n",
       " ('a', 'teacher'),\n",
       " ('teacher', 'for'),\n",
       " ('for', 'kindergarten'),\n",
       " ('kindergarten', 'through'),\n",
       " ('through', '3rd'),\n",
       " ('3rd', 'grade'),\n",
       " ('next', 'job'),\n",
       " ('job', 'in'),\n",
       " ('in', 'educational'),\n",
       " ('educational', 'technology'),\n",
       " ('technology', 'and'),\n",
       " ('and', 'environment'),\n",
       " ('environment', 'ill'),\n",
       " ('ill', 'be'),\n",
       " ('be', 'working'),\n",
       " ('south', 'korea'),\n",
       " ('product', 'analytics'),\n",
       " ('analytics', 'manager'),\n",
       " ('working', 'in'),\n",
       " ('in', 'united'),\n",
       " ('united', 'states'),\n",
       " ('work', 'in'),\n",
       " ('in', 'san'),\n",
       " ('san', 'francisco'),\n",
       " ('republic', 'of'),\n",
       " ('of', 'korea'),\n",
       " ('get', 'hired'),\n",
       " ('working', 'as'),\n",
       " ('as', 'bank'),\n",
       " ('catch', 'that'),\n",
       " ('find', 'a'),\n",
       " ('a', 'job'),\n",
       " ('worked', 'in'),\n",
       " ('in', 'a'),\n",
       " ('a', 'marketing'),\n",
       " ('marketing', 'team'),\n",
       " ('work', 'in'),\n",
       " ('in', 'the'),\n",
       " ('the', 'us'),\n",
       " ('i', 'know'),\n",
       " ('i', 'worked'),\n",
       " ('degree', 'in'),\n",
       " ('in', 'policy'),\n",
       " ('policy', 'science'),\n",
       " ('i', 'am'),\n",
       " ('am', 'not'),\n",
       " ('not', 'working'),\n",
       " ('dominican', 'republic'),\n",
       " ('tech', 'consulting'),\n",
       " ('start', 'working'),\n",
       " ('an', 'internship'),\n",
       " ('internship', 'in'),\n",
       " ('in', 'india'),\n",
       " ('business', 'consultant'),\n",
       " ('consultant', 'at'),\n",
       " ('at', 'deloitte'),\n",
       " ('internship', 'in'),\n",
       " ('in', 'italy'),\n",
       " ('start', 'working'),\n",
       " ('working', 'in'),\n",
       " ('in', 'a'),\n",
       " ('a', 'consulting'),\n",
       " ('consulting', 'firm'),\n",
       " ('booking', 'in'),\n",
       " ('in', 'india'),\n",
       " ('i', 'will'),\n",
       " ('will', 'work'),\n",
       " ('work', 'in'),\n",
       " ('in', 'us'),\n",
       " ('catch', 'that'),\n",
       " ('work', 'in'),\n",
       " ('in', 'analytics'),\n",
       " ('gold', 'travertine'),\n",
       " ('catch', 'that'),\n",
       " ('find', 'job'),\n",
       " ('not', 'sure'),\n",
       " ('start', 'working'),\n",
       " ('get', 'a'),\n",
       " ('a', 'job'),\n",
       " ('work', 'in'),\n",
       " ('in', 'marketing'),\n",
       " ('working', 'in'),\n",
       " ('in', 'data'),\n",
       " ('data', 'analytics'),\n",
       " ('i', 'was'),\n",
       " ('was', 'doing'),\n",
       " ('doing', 'my'),\n",
       " ('my', 'undergrad'),\n",
       " ('after', 'graduation'),\n",
       " ('graduation', 'i'),\n",
       " ('i', 'plan'),\n",
       " ('plan', 'on'),\n",
       " ('on', 'finding'),\n",
       " ('finding', 'a'),\n",
       " ('a', 'job'),\n",
       " ('job', 'in'),\n",
       " ('in', 'the'),\n",
       " ('the', 'united'),\n",
       " ('united', 'states'),\n",
       " ('go', 'back'),\n",
       " ('back', 'to'),\n",
       " ('to', 'my'),\n",
       " ('my', 'country'),\n",
       " ('country', 'to'),\n",
       " ('to', 'find'),\n",
       " ('find', 'a'),\n",
       " ('a', 'job'),\n",
       " ('find', 'a'),\n",
       " ('a', 'job'),\n",
       " ('job', 'in'),\n",
       " ('in', 'the'),\n",
       " ('the', 'us'),\n",
       " ('catch', 'that'),\n",
       " ('work', 'for'),\n",
       " ('for', 'a'),\n",
       " ('a', 'bank'),\n",
       " ('find', 'a'),\n",
       " ('a', 'job'),\n",
       " ('job', 'in'),\n",
       " ('in', 'the'),\n",
       " ('the', 'united'),\n",
       " ('united', 'states'),\n",
       " ('get', 'a'),\n",
       " ('a', 'job'),\n",
       " ('job', 'in'),\n",
       " ('in', 'the'),\n",
       " ('the', 'us')]"
      ]
     },
     "execution_count": 34,
     "metadata": {},
     "output_type": "execute_result"
    }
   ],
   "source": [
    "bigram_w"
   ]
  },
  {
   "cell_type": "code",
   "execution_count": 43,
   "metadata": {},
   "outputs": [
    {
     "data": {
      "text/plain": [
       "86"
      ]
     },
     "execution_count": 43,
     "metadata": {},
     "output_type": "execute_result"
    }
   ],
   "source": [
    "len(bigram_wo)"
   ]
  },
  {
   "cell_type": "code",
   "execution_count": 155,
   "metadata": {},
   "outputs": [
    {
     "data": {
      "text/plain": [
       "[(('find', 'job'), 6),\n",
       " (('united', 'states'), 4),\n",
       " (('start', 'working'), 3),\n",
       " (('construction', 'engineer'), 2),\n",
       " (('working', 'bank'), 2),\n",
       " (('work', 'us'), 2),\n",
       " (('get', 'job'), 2),\n",
       " (('job', 'united'), 2),\n",
       " (('job', 'us'), 2),\n",
       " (('go', 'back'), 2),\n",
       " (('property', 'acquisition'), 1),\n",
       " (('acquisition', 'officer'), 1),\n",
       " (('officer', 'robinsons'), 1),\n",
       " (('robinsons', 'land'), 1),\n",
       " (('land', 'corporation'), 1),\n",
       " (('work', 'new'), 1),\n",
       " (('new', 'york'), 1),\n",
       " (('work', 'united'), 1),\n",
       " (('states', 'construction'), 1),\n",
       " (('teacher', 'kindergarten'), 1)]"
      ]
     },
     "execution_count": 155,
     "metadata": {},
     "output_type": "execute_result"
    }
   ],
   "source": [
    "bifq = FreqDist(bigram_wo)\n",
    "bifq.most_common(20)"
   ]
  },
  {
   "cell_type": "markdown",
   "metadata": {},
   "source": [
    "* 将语料库中的bigram词频转化成dataframe格式\n"
   ]
  },
  {
   "cell_type": "code",
   "execution_count": 156,
   "metadata": {
    "scrolled": true
   },
   "outputs": [],
   "source": [
    "\n",
    "bi_fd_w = pd.DataFrame(list(FreqDist(bigram_w).items()), columns=['bi_w', 'bicounts_w'])\n",
    "bi_fd_wo = pd.DataFrame(list(FreqDist(bigram_wo).items()), columns=['bi_wo', 'bicounts_wo'])"
   ]
  },
  {
   "cell_type": "markdown",
   "metadata": {},
   "source": [
    "* 排个序\n",
    "* bi_fd_w.sort_values(by = 'bicounts_w', inplace = True, ascending = False)\n",
    "* bi_fd_wo.sort_values(by = 'bicounts_wo', inplace = True, ascending = False)\n"
   ]
  },
  {
   "cell_type": "code",
   "execution_count": 157,
   "metadata": {},
   "outputs": [],
   "source": [
    "bi_fd_w.sort_values(by = 'bicounts_w', inplace = True, ascending = False)\n",
    "bi_fd_wo.sort_values(by = 'bicounts_wo', inplace = True, ascending = False)"
   ]
  },
  {
   "cell_type": "code",
   "execution_count": 158,
   "metadata": {},
   "outputs": [
    {
     "data": {
      "text/html": [
       "<div>\n",
       "<style scoped>\n",
       "    .dataframe tbody tr th:only-of-type {\n",
       "        vertical-align: middle;\n",
       "    }\n",
       "\n",
       "    .dataframe tbody tr th {\n",
       "        vertical-align: top;\n",
       "    }\n",
       "\n",
       "    .dataframe thead th {\n",
       "        text-align: right;\n",
       "    }\n",
       "</style>\n",
       "<table border=\"1\" class=\"dataframe\">\n",
       "  <thead>\n",
       "    <tr style=\"text-align: right;\">\n",
       "      <th></th>\n",
       "      <th>bi_w</th>\n",
       "      <th>bicounts_w</th>\n",
       "    </tr>\n",
       "  </thead>\n",
       "  <tbody>\n",
       "    <tr>\n",
       "      <th>9</th>\n",
       "      <td>(work, in)</td>\n",
       "      <td>8</td>\n",
       "    </tr>\n",
       "    <tr>\n",
       "      <th>20</th>\n",
       "      <td>(a, job)</td>\n",
       "      <td>8</td>\n",
       "    </tr>\n",
       "    <tr>\n",
       "      <th>50</th>\n",
       "      <td>(in, the)</td>\n",
       "      <td>5</td>\n",
       "    </tr>\n",
       "    <tr>\n",
       "      <th>28</th>\n",
       "      <td>(job, in)</td>\n",
       "      <td>5</td>\n",
       "    </tr>\n",
       "    <tr>\n",
       "      <th>19</th>\n",
       "      <td>(find, a)</td>\n",
       "      <td>5</td>\n",
       "    </tr>\n",
       "  </tbody>\n",
       "</table>\n",
       "</div>"
      ],
      "text/plain": [
       "          bi_w  bicounts_w\n",
       "9   (work, in)           8\n",
       "20    (a, job)           8\n",
       "50   (in, the)           5\n",
       "28   (job, in)           5\n",
       "19   (find, a)           5"
      ]
     },
     "execution_count": 158,
     "metadata": {},
     "output_type": "execute_result"
    }
   ],
   "source": [
    "bi_fd_w.head()"
   ]
  },
  {
   "cell_type": "code",
   "execution_count": 159,
   "metadata": {},
   "outputs": [
    {
     "data": {
      "text/html": [
       "<div>\n",
       "<style scoped>\n",
       "    .dataframe tbody tr th:only-of-type {\n",
       "        vertical-align: middle;\n",
       "    }\n",
       "\n",
       "    .dataframe tbody tr th {\n",
       "        vertical-align: top;\n",
       "    }\n",
       "\n",
       "    .dataframe thead th {\n",
       "        text-align: right;\n",
       "    }\n",
       "</style>\n",
       "<table border=\"1\" class=\"dataframe\">\n",
       "  <thead>\n",
       "    <tr style=\"text-align: right;\">\n",
       "      <th></th>\n",
       "      <th>bi_wo</th>\n",
       "      <th>bicounts_wo</th>\n",
       "    </tr>\n",
       "  </thead>\n",
       "  <tbody>\n",
       "    <tr>\n",
       "      <th>12</th>\n",
       "      <td>(find, job)</td>\n",
       "      <td>6</td>\n",
       "    </tr>\n",
       "    <tr>\n",
       "      <th>9</th>\n",
       "      <td>(united, states)</td>\n",
       "      <td>4</td>\n",
       "    </tr>\n",
       "    <tr>\n",
       "      <th>34</th>\n",
       "      <td>(start, working)</td>\n",
       "      <td>3</td>\n",
       "    </tr>\n",
       "    <tr>\n",
       "      <th>40</th>\n",
       "      <td>(get, job)</td>\n",
       "      <td>2</td>\n",
       "    </tr>\n",
       "    <tr>\n",
       "      <th>47</th>\n",
       "      <td>(job, united)</td>\n",
       "      <td>2</td>\n",
       "    </tr>\n",
       "  </tbody>\n",
       "</table>\n",
       "</div>"
      ],
      "text/plain": [
       "               bi_wo  bicounts_wo\n",
       "12       (find, job)            6\n",
       "9   (united, states)            4\n",
       "34  (start, working)            3\n",
       "40        (get, job)            2\n",
       "47     (job, united)            2"
      ]
     },
     "execution_count": 159,
     "metadata": {},
     "output_type": "execute_result"
    }
   ],
   "source": [
    "bi_fd_wo.head()"
   ]
  },
  {
   "cell_type": "markdown",
   "metadata": {},
   "source": [
    "* 可视化"
   ]
  },
  {
   "cell_type": "code",
   "execution_count": 160,
   "metadata": {},
   "outputs": [
    {
     "data": {
      "image/png": "[encoded data removed]",
      "text/plain": [
       "<Figure size 720x360 with 2 Axes>"
      ]
     },
     "metadata": {},
     "output_type": "display_data"
    }
   ],
   "source": [
    "fig, (ax1,ax2) = plt.subplots(1,2, sharey = True,figsize = (10,5))\n",
    "\n",
    "sns.barplot(x = bi_fd_w['bi_w'][:10],\n",
    "            y =bi_fd_w['bicounts_w'][:10], \n",
    "            palette='Blues_d',\n",
    "            ax = ax1, \n",
    "            label = 'with stopwords') \n",
    "\n",
    "sns.barplot(x = bi_fd_wo['bi_wo'][:10],\n",
    "            y =bi_fd_wo['bicounts_wo'][:10], \n",
    "            palette='Greens_d', \n",
    "            ax = ax2, \n",
    "            label = 'without stopwrods') \n",
    "\n",
    "ax1.set_xticklabels(ax1.xaxis.get_majorticklabels(), rotation=90)\n",
    "ax2.set_xticklabels(ax2.xaxis.get_majorticklabels(), rotation=90)\n",
    "\n",
    "\n",
    "ax1.legend(loc = 'upper right')\n",
    "ax2.legend(loc = 'upper right')\n",
    "\n",
    "plt.tight_layout()\n",
    "plt.show()"
   ]
  },
  {
   "cell_type": "markdown",
   "metadata": {},
   "source": [
    "### 4.4 建模\n",
    "* 数据预处理\n",
    "* tfidf处理，转化成频率\n",
    "* 调用具体模型"
   ]
  },
  {
   "cell_type": "markdown",
   "metadata": {},
   "source": [
    "#### 4.4.1 Data Preprocessing数据预处理"
   ]
  },
  {
   "cell_type": "code",
   "execution_count": 161,
   "metadata": {},
   "outputs": [],
   "source": [
    "def stem_tokens(tokens, stemmer = PorterStemmer()):\n",
    "    stemmed = []\n",
    "    for item in tokens:\n",
    "        stemmed.append(stemmer.stem(item))\n",
    "    return stemmed\n",
    "\n",
    "def tokenize(text):\n",
    "    tokens = nltk.word_tokenize(text)\n",
    "    #tokens = [word for word in tokens if word not in stopwords.words('english')]\n",
    "    stems = stem_tokens(tokens)\n",
    "    return ' '.join(stems)\n",
    "\n",
    "def build_corpus(dataset):\n",
    "    corpus = []\n",
    "    for text in dataset:\n",
    "        # without the decoding, there will be UnicodeDecodeError when tokenizing\n",
    "        corpus.append(tokenize(text))  \n",
    "    return corpus"
   ]
  },
  {
   "cell_type": "code",
   "execution_count": 162,
   "metadata": {},
   "outputs": [],
   "source": [
    "# 在第二步时已经去除了标点\n",
    "n=170\n",
    "X = summary[:n]\n",
    "y = label[:n]\n",
    "\n"
   ]
  },
  {
   "cell_type": "markdown",
   "metadata": {},
   "source": [
    "* 分成训练集合测试集\n",
    "* seed = 2018\n",
    "* X_train, X_test, y_train, y_test = train_test_split(X, y, test_size=0.2, random_state=seed)"
   ]
  },
  {
   "cell_type": "code",
   "execution_count": 163,
   "metadata": {},
   "outputs": [],
   "source": [
    "seed = 2018\n",
    "X_train, X_test, y_train, y_test = train_test_split(X, y, test_size=0.45, random_state=seed)"
   ]
  },
  {
   "cell_type": "markdown",
   "metadata": {},
   "source": [
    "* 建语料库"
   ]
  },
  {
   "cell_type": "code",
   "execution_count": 164,
   "metadata": {},
   "outputs": [],
   "source": [
    "train_token = build_corpus(X_train)\n",
    "test_token = build_corpus(X_test)"
   ]
  },
  {
   "cell_type": "code",
   "execution_count": 165,
   "metadata": {
    "scrolled": false
   },
   "outputs": [
    {
     "data": {
      "text/plain": [
       "['mib',\n",
       " 'ye',\n",
       " 'find a job in the unit state',\n",
       " 'republ of korea',\n",
       " 'find job',\n",
       " 'ye',\n",
       " 'ye',\n",
       " 'ye',\n",
       " 'work',\n",
       " 'work in the us']"
      ]
     },
     "execution_count": 165,
     "metadata": {},
     "output_type": "execute_result"
    }
   ],
   "source": [
    "train_token[:10]"
   ]
  },
  {
   "cell_type": "markdown",
   "metadata": {},
   "source": [
    "#### 4.4.2 进一步处理，计算单词出现的tf-idf频率：sklearn TfidfVectorizer (会用就行)\n"
   ]
  },
  {
   "cell_type": "markdown",
   "metadata": {},
   "source": [
    "* 什么是TF-IDF？\n",
    "* TF: term frequency 具体单词在某篇文章中的出现次数 \n",
    "* $TF_{词i,文章j} = \\frac{词i在文章j中的频率}{文章j中所有词的频率总和}$\n",
    "* IDF: inversed document frequency \n",
    "* $IDF_{词i} = log \\frac{所有文章的篇数总和}{带有词汇i的文章篇数总和}$\n"
   ]
  },
  {
   "cell_type": "code",
   "execution_count": 166,
   "metadata": {},
   "outputs": [],
   "source": [
    "from sklearn.feature_extraction.text import TfidfVectorizer\n",
    "\n",
    "tfidf_vec = TfidfVectorizer()\n",
    "\n",
    "X_train_tfidf_vec = tfidf_vec.fit_transform(train_token)\n",
    "X_test_tfidf_vec = tfidf_vec.transform(test_token)"
   ]
  },
  {
   "cell_type": "code",
   "execution_count": null,
   "metadata": {
    "collapsed": true
   },
   "outputs": [],
   "source": []
  },
  {
   "cell_type": "markdown",
   "metadata": {},
   "source": [
    "查看结果\n",
    "\n",
    "for item in X_test_tfidf_vec:\n",
    "\n",
    "    print(item)\n",
    "    \n",
    "    print(\"---\")"
   ]
  },
  {
   "cell_type": "code",
   "execution_count": 167,
   "metadata": {},
   "outputs": [
    {
     "name": "stdout",
     "output_type": "stream",
     "text": [
      "  (0, 20)\t1.0\n",
      "---\n",
      "  (0, 35)\t1.0\n",
      "---\n",
      "  (0, 60)\t1.0\n",
      "---\n",
      "  (0, 33)\t1.0\n",
      "---\n",
      "\n",
      "---\n",
      "\n",
      "---\n",
      "  (0, 25)\t0.7789941275802071\n",
      "  (0, 24)\t0.6270312186769905\n",
      "---\n",
      "  (0, 35)\t1.0\n",
      "---\n",
      "  (0, 59)\t1.0\n",
      "---\n",
      "  (0, 35)\t1.0\n",
      "---\n",
      "  (0, 60)\t0.4511057342695466\n",
      "  (0, 24)\t0.506802013003974\n",
      "  (0, 3)\t0.7346123713389621\n",
      "---\n",
      "  (0, 61)\t1.0\n",
      "---\n",
      "  (0, 60)\t1.0\n",
      "---\n",
      "  (0, 55)\t1.0\n",
      "---\n",
      "  (0, 9)\t1.0\n",
      "---\n",
      "  (0, 15)\t1.0\n",
      "---\n",
      "  (0, 61)\t1.0\n",
      "---\n",
      "  (0, 35)\t1.0\n",
      "---\n",
      "  (0, 60)\t1.0\n",
      "---\n",
      "  (0, 53)\t0.7006376549117959\n",
      "  (0, 36)\t0.35031882745589793\n",
      "  (0, 29)\t0.2598336525204522\n",
      "  (0, 20)\t0.35031882745589793\n",
      "  (0, 16)\t0.27096772303607414\n",
      "  (0, 5)\t0.35031882745589793\n",
      "---\n",
      "  (0, 35)\t1.0\n",
      "---\n",
      "\n",
      "---\n",
      "  (0, 60)\t1.0\n",
      "---\n",
      "  (0, 61)\t1.0\n",
      "---\n",
      "  (0, 60)\t0.47196947837031306\n",
      "  (0, 57)\t0.7043355215125363\n",
      "  (0, 24)\t0.5302417228232026\n",
      "---\n",
      "  (0, 30)\t1.0\n",
      "---\n",
      "  (0, 60)\t0.6648700822051761\n",
      "  (0, 24)\t0.7469590174758467\n",
      "---\n",
      "  (0, 33)\t1.0\n",
      "---\n",
      "  (0, 60)\t0.38586489385241735\n",
      "  (0, 46)\t0.5758388279330241\n",
      "  (0, 24)\t0.4335061385744207\n",
      "  (0, 10)\t0.5758388279330241\n",
      "---\n",
      "  (0, 60)\t1.0\n",
      "---\n",
      "  (0, 28)\t0.6355199303890646\n",
      "  (0, 27)\t0.6355199303890646\n",
      "  (0, 24)\t0.4384390905890545\n",
      "---\n",
      "  (0, 10)\t1.0\n",
      "---\n",
      "\n",
      "---\n",
      "  (0, 35)\t1.0\n",
      "---\n",
      "\n",
      "---\n",
      "  (0, 60)\t1.0\n",
      "---\n",
      "  (0, 60)\t1.0\n",
      "---\n",
      "  (0, 10)\t1.0\n",
      "---\n",
      "  (0, 60)\t0.6648700822051761\n",
      "  (0, 24)\t0.7469590174758467\n",
      "---\n",
      "  (0, 33)\t1.0\n",
      "---\n",
      "\n",
      "---\n",
      "  (0, 35)\t1.0\n",
      "---\n",
      "  (0, 9)\t1.0\n",
      "---\n",
      "  (0, 49)\t1.0\n",
      "---\n",
      "  (0, 19)\t1.0\n",
      "---\n",
      "  (0, 35)\t1.0\n",
      "---\n",
      "  (0, 42)\t1.0\n",
      "---\n",
      "  (0, 57)\t0.4923650477566202\n",
      "  (0, 52)\t0.4155808353522387\n",
      "  (0, 29)\t0.3985046084352162\n",
      "  (0, 24)\t0.37066495044826725\n",
      "  (0, 19)\t0.5372809326605917\n",
      "---\n",
      "  (0, 35)\t1.0\n",
      "---\n",
      "\n",
      "---\n",
      "  (0, 25)\t1.0\n",
      "---\n",
      "  (0, 61)\t1.0\n",
      "---\n",
      "\n",
      "---\n",
      "  (0, 35)\t1.0\n",
      "---\n",
      "  (0, 38)\t1.0\n",
      "---\n",
      "  (0, 35)\t1.0\n",
      "---\n",
      "  (0, 61)\t1.0\n",
      "---\n",
      "  (0, 24)\t1.0\n",
      "---\n",
      "  (0, 60)\t0.4511057342695466\n",
      "  (0, 24)\t0.506802013003974\n",
      "  (0, 3)\t0.7346123713389621\n",
      "---\n",
      "  (0, 35)\t1.0\n",
      "---\n",
      "  (0, 60)\t1.0\n",
      "---\n",
      "  (0, 9)\t1.0\n",
      "---\n",
      "  (0, 35)\t1.0\n",
      "---\n",
      "  (0, 35)\t1.0\n",
      "---\n",
      "  (0, 60)\t0.3343874331534974\n",
      "  (0, 56)\t0.4990173261428874\n",
      "  (0, 47)\t0.4990173261428874\n",
      "  (0, 24)\t0.37567295507745174\n",
      "  (0, 15)\t0.4990173261428874\n",
      "---\n",
      "  (0, 60)\t0.38586489385241735\n",
      "  (0, 56)\t0.5758388279330241\n",
      "  (0, 47)\t0.5758388279330241\n",
      "  (0, 24)\t0.4335061385744207\n",
      "---\n",
      "  (0, 35)\t1.0\n",
      "---\n",
      "  (0, 35)\t1.0\n",
      "---\n",
      "  (0, 59)\t1.0\n",
      "---\n",
      "  (0, 60)\t0.6648700822051761\n",
      "  (0, 24)\t0.7469590174758467\n",
      "---\n",
      "  (0, 29)\t0.6921222877734122\n",
      "  (0, 16)\t0.7217802565651806\n",
      "---\n",
      "  (0, 61)\t1.0\n",
      "---\n",
      "  (0, 25)\t1.0\n",
      "---\n",
      "  (0, 60)\t0.4100245766411059\n",
      "  (0, 29)\t0.49524682360976635\n",
      "  (0, 24)\t0.46064872387245775\n",
      "  (0, 4)\t0.6118931143993981\n",
      "---\n",
      "  (0, 61)\t1.0\n",
      "---\n",
      "  (0, 32)\t1.0\n",
      "---\n",
      "  (0, 35)\t1.0\n",
      "---\n"
     ]
    }
   ],
   "source": [
    "for item in X_test_tfidf_vec:\n",
    "    print(item)\n",
    "\n",
    "    print(\"---\")"
   ]
  },
  {
   "cell_type": "markdown",
   "metadata": {},
   "source": [
    "X_train_tfidf_vec的大小 X_train_tfidf_vec.shape\n"
   ]
  },
  {
   "cell_type": "code",
   "execution_count": 118,
   "metadata": {},
   "outputs": [
    {
     "data": {
      "text/plain": [
       "(100, 88)"
      ]
     },
     "execution_count": 118,
     "metadata": {},
     "output_type": "execute_result"
    }
   ],
   "source": [
    "X_train_tfidf_vec.shape"
   ]
  },
  {
   "cell_type": "markdown",
   "metadata": {},
   "source": [
    "有哪些词语？tfidf_vec.get_feature_names()"
   ]
  },
  {
   "cell_type": "code",
   "execution_count": 119,
   "metadata": {},
   "outputs": [
    {
     "data": {
      "text/plain": [
       "['after',\n",
       " 'am',\n",
       " 'america',\n",
       " 'an',\n",
       " 'analyt',\n",
       " 'and',\n",
       " 'at',\n",
       " 'back',\n",
       " 'bank',\n",
       " 'be',\n",
       " 'belgium',\n",
       " 'boat',\n",
       " 'book',\n",
       " 'brazil',\n",
       " 'busi',\n",
       " 'buy',\n",
       " 'catch',\n",
       " 'china',\n",
       " 'consult',\n",
       " 'countri',\n",
       " 'data',\n",
       " 'deloitt',\n",
       " 'do',\n",
       " 'educ',\n",
       " 'employ',\n",
       " 'engin',\n",
       " 'environ',\n",
       " 'find',\n",
       " 'firm',\n",
       " 'for',\n",
       " 'franc',\n",
       " 'francisco',\n",
       " 'germani',\n",
       " 'get',\n",
       " 'go',\n",
       " 'graduat',\n",
       " 'hire',\n",
       " 'ill',\n",
       " 'in',\n",
       " 'india',\n",
       " 'internship',\n",
       " 'itali',\n",
       " 'job',\n",
       " 'know',\n",
       " 'korea',\n",
       " 'manag',\n",
       " 'market',\n",
       " 'markyi',\n",
       " 'mba',\n",
       " 'mib',\n",
       " 'miv',\n",
       " 'mta',\n",
       " 'my',\n",
       " 'netherland',\n",
       " 'next',\n",
       " 'nigeria',\n",
       " 'no',\n",
       " 'not',\n",
       " 'of',\n",
       " 'on',\n",
       " 'philippin',\n",
       " 'plan',\n",
       " 'product',\n",
       " 'republ',\n",
       " 'said',\n",
       " 'san',\n",
       " 'start',\n",
       " 'state',\n",
       " 'student',\n",
       " 'studi',\n",
       " 'sure',\n",
       " 'team',\n",
       " 'tech',\n",
       " 'technolog',\n",
       " 'that',\n",
       " 'the',\n",
       " 'to',\n",
       " 'undergrad',\n",
       " 'unit',\n",
       " 'us',\n",
       " 'vacat',\n",
       " 'wa',\n",
       " 'walk',\n",
       " 'want',\n",
       " 'will',\n",
       " 'work',\n",
       " 'ye',\n",
       " 'you']"
      ]
     },
     "execution_count": 119,
     "metadata": {},
     "output_type": "execute_result"
    }
   ],
   "source": [
    "tfidf_vec.get_feature_names()"
   ]
  },
  {
   "cell_type": "markdown",
   "metadata": {},
   "source": [
    "#### 4.4.3 调用具体模型 train & predict"
   ]
  },
  {
   "cell_type": "code",
   "execution_count": 168,
   "metadata": {},
   "outputs": [],
   "source": [
    "from sklearn.linear_model import LogisticRegression\n",
    "from sklearn.ensemble import RandomForestClassifier\n",
    "from sklearn import metrics"
   ]
  },
  {
   "cell_type": "markdown",
   "metadata": {},
   "source": [
    "#### 逻辑回归"
   ]
  },
  {
   "cell_type": "code",
   "execution_count": 169,
   "metadata": {},
   "outputs": [],
   "source": [
    "lr = LogisticRegression().fit(X_train_tfidf_vec,y_train)\n",
    "ypred_lr = lr.predict(X_train_tfidf_vec)"
   ]
  },
  {
   "cell_type": "code",
   "execution_count": null,
   "metadata": {
    "collapsed": true
   },
   "outputs": [],
   "source": []
  },
  {
   "cell_type": "markdown",
   "metadata": {},
   "source": [
    "#### 与RandomForestClassifier对比"
   ]
  },
  {
   "cell_type": "code",
   "execution_count": 170,
   "metadata": {},
   "outputs": [],
   "source": [
    "models = {}\n",
    "models['lgr'] = LogisticRegression()\n",
    "models['RF'] = RandomForestClassifier(n_estimators = 50, max_depth =1,min_samples_split = 3)"
   ]
  },
  {
   "cell_type": "markdown",
   "metadata": {},
   "source": [
    "* 将结果保存在pd.DataFrame中"
   ]
  },
  {
   "cell_type": "code",
   "execution_count": 171,
   "metadata": {},
   "outputs": [],
   "source": [
    "results = pd.DataFrame(index = models.keys(), columns = ['f1_score', 'precision_score', 'recall_score','auc'])\n",
    "\n",
    "for (clf_name,clf) in models.items():\n",
    "    clf.fit(X_train_tfidf_vec, y_train)\n",
    "    ypred = clf.predict(X_test_tfidf_vec)\n",
    "    f1score = metrics.f1_score(y_test,ypred)\n",
    "    precision = metrics.precision_score(y_test,ypred)\n",
    "    recall = metrics.recall_score(y_test,ypred)\n",
    "    auc = metrics.roc_auc_score(y_test,ypred)\n",
    "    results.loc[clf_name,:] = [f1score,precision,recall,auc]"
   ]
  },
  {
   "cell_type": "code",
   "execution_count": 172,
   "metadata": {
    "scrolled": true
   },
   "outputs": [
    {
     "data": {
      "text/html": [
       "<div>\n",
       "<style scoped>\n",
       "    .dataframe tbody tr th:only-of-type {\n",
       "        vertical-align: middle;\n",
       "    }\n",
       "\n",
       "    .dataframe tbody tr th {\n",
       "        vertical-align: top;\n",
       "    }\n",
       "\n",
       "    .dataframe thead th {\n",
       "        text-align: right;\n",
       "    }\n",
       "</style>\n",
       "<table border=\"1\" class=\"dataframe\">\n",
       "  <thead>\n",
       "    <tr style=\"text-align: right;\">\n",
       "      <th></th>\n",
       "      <th>f1_score</th>\n",
       "      <th>precision_score</th>\n",
       "      <th>recall_score</th>\n",
       "      <th>auc</th>\n",
       "    </tr>\n",
       "  </thead>\n",
       "  <tbody>\n",
       "    <tr>\n",
       "      <th>lgr</th>\n",
       "      <td>0.846154</td>\n",
       "      <td>0.753425</td>\n",
       "      <td>0.964912</td>\n",
       "      <td>0.532456</td>\n",
       "    </tr>\n",
       "    <tr>\n",
       "      <th>RF</th>\n",
       "      <td>0.850746</td>\n",
       "      <td>0.74026</td>\n",
       "      <td>1</td>\n",
       "      <td>0.5</td>\n",
       "    </tr>\n",
       "  </tbody>\n",
       "</table>\n",
       "</div>"
      ],
      "text/plain": [
       "     f1_score precision_score recall_score       auc\n",
       "lgr  0.846154        0.753425     0.964912  0.532456\n",
       "RF   0.850746         0.74026            1       0.5"
      ]
     },
     "execution_count": 172,
     "metadata": {},
     "output_type": "execute_result"
    }
   ],
   "source": [
    "results"
   ]
  },
  {
   "cell_type": "code",
   "execution_count": null,
   "metadata": {
    "collapsed": true
   },
   "outputs": [],
   "source": []
  },
  {
   "cell_type": "code",
   "execution_count": null,
   "metadata": {
    "collapsed": true
   },
   "outputs": [],
   "source": []
  }
 ],
 "metadata": {
  "anaconda-cloud": {},
  "kernelspec": {
   "display_name": "Python 3",
   "language": "python",
   "name": "python3"
  },
  "language_info": {
   "codemirror_mode": {
    "name": "ipython",
    "version": 3
   },
   "file_extension": ".py",
   "mimetype": "text/x-python",
   "name": "python",
   "nbconvert_exporter": "python",
   "pygments_lexer": "ipython3",
   "version": "3.6.5"
  }
 },
 "nbformat": 4,
 "nbformat_minor": 1
}
